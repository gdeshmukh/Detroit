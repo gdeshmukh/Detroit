{
 "cells": [
  {
   "cell_type": "code",
   "execution_count": 1,
   "metadata": {},
   "outputs": [],
   "source": [
    "import pandas as pd\n",
    "import numpy as np\n",
    "from datetime import datetime, timedelta, date\n",
    "from collections import defaultdict\n",
    "import json\n",
    "from scipy.stats import norm\n",
    "import matplotlib.pyplot as plt"
   ]
  },
  {
   "cell_type": "code",
   "execution_count": 2,
   "metadata": {},
   "outputs": [],
   "source": [
    "df = pd.read_csv('../../data/race_data/2019.csv')"
   ]
  },
  {
   "cell_type": "code",
   "execution_count": 3,
   "metadata": {},
   "outputs": [],
   "source": [
    "new_times_s = []\n",
    "for index, time in df['Session Time'].iteritems():\n",
    "    if time.count(':') == 1:\n",
    "        new_times_s.append(datetime.strptime(time, '%M:%S.%f'))\n",
    "    else:\n",
    "        new_times_s.append(datetime.strptime(time, '%H:%M:%S.%f'))\n",
    "df['Session Time'] = new_times_s"
   ]
  },
  {
   "cell_type": "code",
   "execution_count": 4,
   "metadata": {},
   "outputs": [],
   "source": [
    "df.to_csv('../../data/2019/2019_mod.csv', index=False, date_format='%Y-%m-%d %H:%M:%S.%f')"
   ]
  },
  {
   "cell_type": "code",
   "execution_count": 5,
   "metadata": {},
   "outputs": [
    {
     "data": {
      "text/plain": [
       "6091.703"
      ]
     },
     "execution_count": 5,
     "metadata": {},
     "output_type": "execute_result"
    }
   ],
   "source": [
    "MAXTIME = df['Session Time'].max()\n",
    "start_date = datetime(1900, 1, 1)\n",
    "MAXTIME = (MAXTIME - start_date).total_seconds()\n",
    "MAXTIME"
   ]
  },
  {
   "cell_type": "code",
   "execution_count": 6,
   "metadata": {},
   "outputs": [],
   "source": [
    "pit_times = {}\n",
    "for car in list(pd.unique(df.Car)):\n",
    "    df_car = df.loc[(df['Car'] == car) & (df['Location'] == 'Pit')]\n",
    "    pt = list(pd.unique(df_car['Session Time']))\n",
    "    d_zero = np.datetime64('1900-01-01T00:00:00')\n",
    "    pt = [(d - d_zero) / np.timedelta64(1, 's') for d in pt]\n",
    "    pt = [0] + pt\n",
    "    pit_times[car] = pt"
   ]
  },
  {
   "cell_type": "code",
   "execution_count": 7,
   "metadata": {},
   "outputs": [],
   "source": [
    "flagtimes = [60.0, 1800.0, 2460.0, 3540.0, 4200.0]\n",
    "cars = []\n",
    "\n",
    "def getLastPit(car, time):\n",
    "    lp = max([t for t in pit_times[car] if t <= time])\n",
    "    return (time - lp) / 60\n",
    "\n",
    "with open('../../data/2019/19_stopped_car_pit.csv', 'w') as f:\n",
    "    f.write('Car,Flag Time,Last Pit\\n')\n",
    "    \n",
    "    for t in zip(cars, flagtimes):\n",
    "        f.write(\"%s,%s,%s\\n\"%(t[0], t[1], getLastPit(t[0], t[1])))"
   ]
  },
  {
   "cell_type": "code",
   "execution_count": 8,
   "metadata": {},
   "outputs": [],
   "source": [
    "def get_risk_score(x):\n",
    "    MEAN1 = 0\n",
    "    STD1 = 21.751478190190515\n",
    "    return norm.pdf(x, MEAN1, STD1)*10"
   ]
  },
  {
   "cell_type": "code",
   "execution_count": 9,
   "metadata": {},
   "outputs": [
    {
     "data": {
      "text/plain": [
       "[(60., 720.), (1800., 2400.), (2460., 2760.), (3540., 4140.), (4200., 4680.)]"
      ]
     },
     "execution_count": 9,
     "metadata": {},
     "output_type": "execute_result"
    }
   ],
   "source": [
    "intervals = pd.read_csv('../../data/2019/19_start_end.csv')\n",
    "intervals = intervals.to_records(index=False)\n",
    "intervals = [t for t in intervals if t[0] in flagtimes]\n",
    "intervals"
   ]
  },
  {
   "cell_type": "code",
   "execution_count": 10,
   "metadata": {},
   "outputs": [],
   "source": [
    "risk_score = {}\n",
    "sus_score = {}\n",
    "intervals_c = np.copy(intervals)\n",
    "for t in range(0, int(MAXTIME), 60):\n",
    "    agg_risk = 0\n",
    "    agg_sus = 0\n",
    "    for car in pit_times:\n",
    "        if len(intervals_c) > 0 and intervals_c[0][0] < t < intervals_c[0][1]:\n",
    "            pass\n",
    "        elif len(intervals_c) > 0 and t > intervals_c[0][1]:\n",
    "            intervals_c = intervals_c[1:]\n",
    "        else:\n",
    "            agg_risk += get_risk_score(getLastPit(car, t))\n",
    "        \n",
    "        previous = [time for time in pit_times[car] if time <= t]\n",
    "        pt = 0\n",
    "        sus = 0\n",
    "        for p in previous[1:]:\n",
    "            if p - pt < 600:\n",
    "#                 print(previous)\n",
    "                sus += 100\n",
    "            elif p - pt < 900:\n",
    "                sus += 80\n",
    "            elif p - pt < 1500:\n",
    "                sus += 30\n",
    "            else:\n",
    "                sus -= .25\n",
    "            pt = p\n",
    "        agg_sus += sus\n",
    "        \n",
    "    risk_score[t] = agg_risk\n",
    "    sus_score[t] = agg_sus"
   ]
  },
  {
   "cell_type": "code",
   "execution_count": 11,
   "metadata": {},
   "outputs": [],
   "source": [
    "sus_deriv = {}\n",
    "intervals_c = np.copy(intervals)\n",
    "for t in range(60, int(MAXTIME), 60):\n",
    "    sus_deriv[t] = (sus_score[t] - sus_score[t-60]) / 60\n",
    "    if len(intervals_c) > 0:\n",
    "        if intervals_c[0][0] < t < intervals_c[0][1]:\n",
    "            sus_deriv[t] = 0\n",
    "        elif t > intervals_c[0][1]:\n",
    "            intervals_c = intervals_c[1:]"
   ]
  },
  {
   "cell_type": "code",
   "execution_count": 12,
   "metadata": {},
   "outputs": [
    {
     "data": {
      "image/png": "[encoded data removed]",
      "text/plain": [
       "<Figure size 1080x504 with 1 Axes>"
      ]
     },
     "metadata": {
      "needs_background": "light"
     },
     "output_type": "display_data"
    }
   ],
   "source": [
    "plt.figure(figsize=(15,7))\n",
    "plt.plot(list(risk_score.keys()), list(risk_score.values()))\n",
    "plt.vlines(flagtimes, 0, 6)\n",
    "plt.show()"
   ]
  },
  {
   "cell_type": "code",
   "execution_count": 13,
   "metadata": {},
   "outputs": [
    {
     "data": {
      "image/png": "[encoded data removed]",
      "text/plain": [
       "<Figure size 1080x504 with 1 Axes>"
      ]
     },
     "metadata": {
      "needs_background": "light"
     },
     "output_type": "display_data"
    }
   ],
   "source": [
    "plt.figure(figsize=(15,7))\n",
    "plt.plot(list(sus_score.keys()), list(sus_score.values()))\n",
    "plt.vlines(flagtimes, 0, 14000)\n",
    "plt.show()"
   ]
  },
  {
   "cell_type": "code",
   "execution_count": 14,
   "metadata": {},
   "outputs": [
    {
     "data": {
      "image/png": "[encoded data removed]",
      "text/plain": [
       "<Figure size 1080x504 with 1 Axes>"
      ]
     },
     "metadata": {
      "needs_background": "light"
     },
     "output_type": "display_data"
    }
   ],
   "source": [
    "\n",
    "plt.figure(figsize=(15,7))\n",
    "plt.plot(list(sus_deriv.keys()), list(sus_deriv.values()))\n",
    "plt.vlines(flagtimes, 0, 1)\n",
    "plt.show()"
   ]
  },
  {
   "cell_type": "code",
   "execution_count": 15,
   "metadata": {},
   "outputs": [],
   "source": [
    "with open('../../data/2019/19_risk_score.csv', 'w') as f:\n",
    "    f.write('Time,Risk Score\\n')\n",
    "    for k,v in risk_score.items():\n",
    "        f.write('%s,%s\\n'%(k,v))"
   ]
  },
  {
   "cell_type": "code",
   "execution_count": 16,
   "metadata": {},
   "outputs": [],
   "source": [
    "with open('../../data/2019/19_sus_deriv.csv', 'w') as f:\n",
    "    f.write('Time,Sus Deriv\\n')\n",
    "    for k,v in sus_deriv.items():\n",
    "        f.write('%s,%s\\n'%(k,v))"
   ]
  },
  {
   "cell_type": "code",
   "execution_count": 17,
   "metadata": {},
   "outputs": [
    {
     "ename": "KeyError",
     "evalue": "38",
     "output_type": "error",
     "traceback": [
      "\u001b[0;31m---------------------------------------------------------------------------\u001b[0m",
      "\u001b[0;31mKeyError\u001b[0m                                  Traceback (most recent call last)",
      "\u001b[0;32m<ipython-input-17-e07db74155d6>\u001b[0m in \u001b[0;36m<module>\u001b[0;34m\u001b[0m\n\u001b[1;32m      1\u001b[0m \u001b[0mcars\u001b[0m \u001b[0;34m=\u001b[0m \u001b[0;34m[\u001b[0m\u001b[0;36m38\u001b[0m\u001b[0;34m,\u001b[0m \u001b[0;36m19\u001b[0m\u001b[0;34m,\u001b[0m \u001b[0;36m74\u001b[0m\u001b[0;34m,\u001b[0m \u001b[0;36m19\u001b[0m\u001b[0;34m,\u001b[0m \u001b[0;36m47\u001b[0m\u001b[0;34m]\u001b[0m\u001b[0;34m\u001b[0m\u001b[0;34m\u001b[0m\u001b[0m\n\u001b[1;32m      2\u001b[0m \u001b[0mtimes\u001b[0m \u001b[0;34m=\u001b[0m \u001b[0;34m[\u001b[0m\u001b[0;36m27940\u001b[0m\u001b[0;34m,\u001b[0m \u001b[0;36m36360\u001b[0m\u001b[0;34m,\u001b[0m \u001b[0;36m65440\u001b[0m\u001b[0;34m,\u001b[0m \u001b[0;36m68460\u001b[0m\u001b[0;34m,\u001b[0m \u001b[0;36m70540\u001b[0m\u001b[0;34m]\u001b[0m\u001b[0;34m\u001b[0m\u001b[0;34m\u001b[0m\u001b[0m\n\u001b[0;32m----> 3\u001b[0;31m \u001b[0mstopped_pit\u001b[0m \u001b[0;34m=\u001b[0m \u001b[0;34m[\u001b[0m\u001b[0;34m(\u001b[0m\u001b[0mt\u001b[0m\u001b[0;34m[\u001b[0m\u001b[0;36m0\u001b[0m\u001b[0;34m]\u001b[0m\u001b[0;34m,\u001b[0m \u001b[0mt\u001b[0m\u001b[0;34m[\u001b[0m\u001b[0;36m1\u001b[0m\u001b[0;34m]\u001b[0m\u001b[0;34m,\u001b[0m \u001b[0mgetLastPit\u001b[0m\u001b[0;34m(\u001b[0m\u001b[0mt\u001b[0m\u001b[0;34m[\u001b[0m\u001b[0;36m0\u001b[0m\u001b[0;34m]\u001b[0m\u001b[0;34m,\u001b[0m \u001b[0mt\u001b[0m\u001b[0;34m[\u001b[0m\u001b[0;36m1\u001b[0m\u001b[0;34m]\u001b[0m\u001b[0;34m)\u001b[0m\u001b[0;34m)\u001b[0m \u001b[0;32mfor\u001b[0m \u001b[0mt\u001b[0m \u001b[0;32min\u001b[0m \u001b[0mzip\u001b[0m\u001b[0;34m(\u001b[0m\u001b[0mcars\u001b[0m\u001b[0;34m,\u001b[0m \u001b[0mtimes\u001b[0m\u001b[0;34m)\u001b[0m\u001b[0;34m]\u001b[0m\u001b[0;34m\u001b[0m\u001b[0;34m\u001b[0m\u001b[0m\n\u001b[0m\u001b[1;32m      4\u001b[0m \u001b[0;34m\u001b[0m\u001b[0m\n\u001b[1;32m      5\u001b[0m \u001b[0;32mwith\u001b[0m \u001b[0mopen\u001b[0m\u001b[0;34m(\u001b[0m\u001b[0;34m'../../data/2020/20_stopped_car_pit.csv'\u001b[0m\u001b[0;34m,\u001b[0m \u001b[0;34m'w'\u001b[0m\u001b[0;34m)\u001b[0m \u001b[0;32mas\u001b[0m \u001b[0mf\u001b[0m\u001b[0;34m:\u001b[0m\u001b[0;34m\u001b[0m\u001b[0;34m\u001b[0m\u001b[0m\n",
      "\u001b[0;32m<ipython-input-17-e07db74155d6>\u001b[0m in \u001b[0;36m<listcomp>\u001b[0;34m(.0)\u001b[0m\n\u001b[1;32m      1\u001b[0m \u001b[0mcars\u001b[0m \u001b[0;34m=\u001b[0m \u001b[0;34m[\u001b[0m\u001b[0;36m38\u001b[0m\u001b[0;34m,\u001b[0m \u001b[0;36m19\u001b[0m\u001b[0;34m,\u001b[0m \u001b[0;36m74\u001b[0m\u001b[0;34m,\u001b[0m \u001b[0;36m19\u001b[0m\u001b[0;34m,\u001b[0m \u001b[0;36m47\u001b[0m\u001b[0;34m]\u001b[0m\u001b[0;34m\u001b[0m\u001b[0;34m\u001b[0m\u001b[0m\n\u001b[1;32m      2\u001b[0m \u001b[0mtimes\u001b[0m \u001b[0;34m=\u001b[0m \u001b[0;34m[\u001b[0m\u001b[0;36m27940\u001b[0m\u001b[0;34m,\u001b[0m \u001b[0;36m36360\u001b[0m\u001b[0;34m,\u001b[0m \u001b[0;36m65440\u001b[0m\u001b[0;34m,\u001b[0m \u001b[0;36m68460\u001b[0m\u001b[0;34m,\u001b[0m \u001b[0;36m70540\u001b[0m\u001b[0;34m]\u001b[0m\u001b[0;34m\u001b[0m\u001b[0;34m\u001b[0m\u001b[0m\n\u001b[0;32m----> 3\u001b[0;31m \u001b[0mstopped_pit\u001b[0m \u001b[0;34m=\u001b[0m \u001b[0;34m[\u001b[0m\u001b[0;34m(\u001b[0m\u001b[0mt\u001b[0m\u001b[0;34m[\u001b[0m\u001b[0;36m0\u001b[0m\u001b[0;34m]\u001b[0m\u001b[0;34m,\u001b[0m \u001b[0mt\u001b[0m\u001b[0;34m[\u001b[0m\u001b[0;36m1\u001b[0m\u001b[0;34m]\u001b[0m\u001b[0;34m,\u001b[0m \u001b[0mgetLastPit\u001b[0m\u001b[0;34m(\u001b[0m\u001b[0mt\u001b[0m\u001b[0;34m[\u001b[0m\u001b[0;36m0\u001b[0m\u001b[0;34m]\u001b[0m\u001b[0;34m,\u001b[0m \u001b[0mt\u001b[0m\u001b[0;34m[\u001b[0m\u001b[0;36m1\u001b[0m\u001b[0;34m]\u001b[0m\u001b[0;34m)\u001b[0m\u001b[0;34m)\u001b[0m \u001b[0;32mfor\u001b[0m \u001b[0mt\u001b[0m \u001b[0;32min\u001b[0m \u001b[0mzip\u001b[0m\u001b[0;34m(\u001b[0m\u001b[0mcars\u001b[0m\u001b[0;34m,\u001b[0m \u001b[0mtimes\u001b[0m\u001b[0;34m)\u001b[0m\u001b[0;34m]\u001b[0m\u001b[0;34m\u001b[0m\u001b[0;34m\u001b[0m\u001b[0m\n\u001b[0m\u001b[1;32m      4\u001b[0m \u001b[0;34m\u001b[0m\u001b[0m\n\u001b[1;32m      5\u001b[0m \u001b[0;32mwith\u001b[0m \u001b[0mopen\u001b[0m\u001b[0;34m(\u001b[0m\u001b[0;34m'../../data/2020/20_stopped_car_pit.csv'\u001b[0m\u001b[0;34m,\u001b[0m \u001b[0;34m'w'\u001b[0m\u001b[0;34m)\u001b[0m \u001b[0;32mas\u001b[0m \u001b[0mf\u001b[0m\u001b[0;34m:\u001b[0m\u001b[0;34m\u001b[0m\u001b[0;34m\u001b[0m\u001b[0m\n",
      "\u001b[0;32m<ipython-input-7-9cbf23db32e9>\u001b[0m in \u001b[0;36mgetLastPit\u001b[0;34m(car, time)\u001b[0m\n\u001b[1;32m      3\u001b[0m \u001b[0;34m\u001b[0m\u001b[0m\n\u001b[1;32m      4\u001b[0m \u001b[0;32mdef\u001b[0m \u001b[0mgetLastPit\u001b[0m\u001b[0;34m(\u001b[0m\u001b[0mcar\u001b[0m\u001b[0;34m,\u001b[0m \u001b[0mtime\u001b[0m\u001b[0;34m)\u001b[0m\u001b[0;34m:\u001b[0m\u001b[0;34m\u001b[0m\u001b[0;34m\u001b[0m\u001b[0m\n\u001b[0;32m----> 5\u001b[0;31m     \u001b[0mlp\u001b[0m \u001b[0;34m=\u001b[0m \u001b[0mmax\u001b[0m\u001b[0;34m(\u001b[0m\u001b[0;34m[\u001b[0m\u001b[0mt\u001b[0m \u001b[0;32mfor\u001b[0m \u001b[0mt\u001b[0m \u001b[0;32min\u001b[0m \u001b[0mpit_times\u001b[0m\u001b[0;34m[\u001b[0m\u001b[0mcar\u001b[0m\u001b[0;34m]\u001b[0m \u001b[0;32mif\u001b[0m \u001b[0mt\u001b[0m \u001b[0;34m<=\u001b[0m \u001b[0mtime\u001b[0m\u001b[0;34m]\u001b[0m\u001b[0;34m)\u001b[0m\u001b[0;34m\u001b[0m\u001b[0;34m\u001b[0m\u001b[0m\n\u001b[0m\u001b[1;32m      6\u001b[0m     \u001b[0;32mreturn\u001b[0m \u001b[0;34m(\u001b[0m\u001b[0mtime\u001b[0m \u001b[0;34m-\u001b[0m \u001b[0mlp\u001b[0m\u001b[0;34m)\u001b[0m \u001b[0;34m/\u001b[0m \u001b[0;36m60\u001b[0m\u001b[0;34m\u001b[0m\u001b[0;34m\u001b[0m\u001b[0m\n\u001b[1;32m      7\u001b[0m \u001b[0;34m\u001b[0m\u001b[0m\n",
      "\u001b[0;31mKeyError\u001b[0m: 38"
     ]
    }
   ],
   "source": [
    "cars = [38, 19, 74, 19, 47]\n",
    "times = [27940, 36360, 65440, 68460, 70540]\n",
    "stopped_pit = [(t[0], t[1], getLastPit(t[0], t[1])) for t in zip(cars, times)]\n",
    "\n",
    "with open('../../data/2020/20_stopped_car_pit.csv', 'w') as f:\n",
    "    f.write('Car,Flag Time,Last Pit\\n')\n",
    "    for s in stopped_pit:\n",
    "        f.write(\"%s,%s,%s\\n\"%(s[0], s[1], s[2]))"
   ]
  },
  {
   "cell_type": "code",
   "execution_count": null,
   "metadata": {},
   "outputs": [],
   "source": [
    "# stopped cars: [47, 19, 74, 19, 38]"
   ]
  },
  {
   "cell_type": "code",
   "execution_count": 11,
   "metadata": {},
   "outputs": [],
   "source": [
    "# last_pit = {}\n",
    "# for t in range(20, MAXTIME, 20):\n",
    "#     all_times = []\n",
    "#     for car in pit_times.keys():\n",
    "#         lp = max(filter(lambda pt: pt < t, pit_times[car]))\n",
    "#         all_times.append(t - lp)\n",
    "#     last_pit[t] = np.average(all_times) / 60"
   ]
  },
  {
   "cell_type": "code",
   "execution_count": 14,
   "metadata": {},
   "outputs": [],
   "source": [
    "distances = {1: 1876, 2: 1751.33, 3: 1768.67, 4: 2352, 5: 1488, 6: 1475, 7: 1427, \n",
    "             8: 1428, 9: 1457, 10: 1484, 11: 1283, 12: 120, 13: 886.83}\n",
    "\n",
    "num_drivers = defaultdict(lambda: defaultdict(list))\n",
    "concentration = defaultdict(lambda: defaultdict(float))\n",
    "last_pit = {}\n",
    "avg_speed = {}\n",
    "for t in range(20, MAXTIME, 20):\n",
    "#     cars = []\n",
    "#     speeds = []\n",
    "#     for driver in section_mod:\n",
    "#         for interval in section_mod[driver]:\n",
    "#             if interval[1] <= t <= interval[2]:\n",
    "#                 num_drivers[t][interval[0]].append((interval[1], interval[2]))\n",
    "#                 cars.append(interval[3])\n",
    "#                 speeds.append(interval[4])\n",
    "#                 break\n",
    "#     for section in num_drivers[t]:\n",
    "#         concentration[t][section] = (len(num_drivers[t][section]) / distances[section]) * 1000\n",
    "        # cars per 1000 feet\n",
    "    \n",
    "    all_times = []\n",
    "    for car in cars:\n",
    "        lp = max(filter(lambda pt: pt < t, pit_times[car]))\n",
    "        all_times.append(t - lp)\n",
    "    last_pit[t] = np.max(all_times) / 60\n",
    "    avg_speed[t] = np.average(speeds)"
   ]
  },
  {
   "cell_type": "code",
   "execution_count": 15,
   "metadata": {},
   "outputs": [],
   "source": [
    "with open('../../data/2019/19_num_drivers.json', 'w') as outfile:\n",
    "    json.dump(num_drivers, outfile)\n",
    "with open('../../data/2019/19_concentrations.csv', 'w') as f:\n",
    "    f.write('Time,Sector,Concentration\\n')\n",
    "    for time in concentration.keys():\n",
    "        for sector in range(1,14):\n",
    "            f.write(\"%s,%s,%s\\n\"%(time, sector, concentration[time].get(sector, 0)))"
   ]
  },
  {
   "cell_type": "code",
   "execution_count": 16,
   "metadata": {},
   "outputs": [],
   "source": [
    "with open('../../data/2019/19_time_since_pit.csv', 'w') as f:\n",
    "    f.write('Time,Last Pit\\n')\n",
    "    for time, lp in last_pit.items():\n",
    "        f.write(\"%s,%s\\n\"%(time, lp))"
   ]
  },
  {
   "cell_type": "code",
   "execution_count": 18,
   "metadata": {},
   "outputs": [],
   "source": [
    "with open('../../data/2019/19_avg_speed.csv', 'w') as f:\n",
    "    f.write('Time,Speed\\n')\n",
    "    for time, speed in avg_speed.items():\n",
    "        f.write(\"%s,%s\\n\"%(time, speed))"
   ]
  },
  {
   "cell_type": "code",
   "execution_count": null,
   "metadata": {},
   "outputs": [],
   "source": []
  }
 ],
 "metadata": {
  "kernelspec": {
   "display_name": "Python 3",
   "language": "python",
   "name": "python3"
  },
  "language_info": {
   "codemirror_mode": {
    "name": "ipython",
    "version": 3
   },
   "file_extension": ".py",
   "mimetype": "text/x-python",
   "name": "python",
   "nbconvert_exporter": "python",
   "pygments_lexer": "ipython3",
   "version": "3.8.3"
  }
 },
 "nbformat": 4,
 "nbformat_minor": 4
}
