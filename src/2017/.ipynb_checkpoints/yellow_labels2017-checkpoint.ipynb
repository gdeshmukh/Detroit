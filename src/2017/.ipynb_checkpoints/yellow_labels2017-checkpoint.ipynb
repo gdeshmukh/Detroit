{
 "cells": [
  {
   "cell_type": "code",
   "execution_count": 6,
   "metadata": {},
   "outputs": [],
   "source": [
    "import pandas as pd\n",
    "from datetime import datetime, timedelta, date\n",
    "from collections import defaultdict\n",
    "import json"
   ]
  },
  {
   "cell_type": "code",
   "execution_count": 7,
   "metadata": {},
   "outputs": [],
   "source": [
    "df = pd.read_csv('../../data/2017/2017_mod.csv')"
   ]
  },
  {
   "cell_type": "code",
   "execution_count": 11,
   "metadata": {},
   "outputs": [
    {
     "data": {
      "text/plain": [
       "['1900-01-01 01:02:56.777000',\n",
       " '1900-01-01 02:24:22.651000',\n",
       " '1900-01-01 05:35:54.378000',\n",
       " '1900-01-01 07:55:31.911000',\n",
       " '1900-01-01 09:26:52.807000',\n",
       " '1900-01-01 10:51:42.524000']"
      ]
     },
     "execution_count": 11,
     "metadata": {},
     "output_type": "execute_result"
    }
   ],
   "source": [
    "flag_times = []\n",
    "end_times = []\n",
    "green_flag = True\n",
    "for index, row in df.iterrows():\n",
    "    if row.Flag == 'Green':\n",
    "        if green_flag == False:\n",
    "            end_times.append(row['Session Time'])\n",
    "        green_flag = True\n",
    "    elif green_flag and row.Flag == 'Yellow':\n",
    "        flag_times.append(row['Session Time'])\n",
    "        green_flag = False\n",
    "flag_times"
   ]
  },
  {
   "cell_type": "markdown",
   "metadata": {},
   "source": [
    "70 - crashes into wall \n",
    "31 - Crash\n",
    "24 - crashes into barrier\n",
    "14  - stopped\n",
    "27 - stops\n",
    "54 - stopped"
   ]
  },
  {
   "cell_type": "code",
   "execution_count": 12,
   "metadata": {},
   "outputs": [
    {
     "data": {
      "text/plain": [
       "[3720.0, 8640.0, 20100.0, 28500.0, 33960.0, 39060.0]"
      ]
     },
     "execution_count": 12,
     "metadata": {},
     "output_type": "execute_result"
    }
   ],
   "source": [
    "yellow_flag_second_times = []\n",
    "for f in flag_times:\n",
    "    first_flag = datetime.strptime(f, '%Y-%m-%d %H:%M:%S.%f')\n",
    "    starting_date = datetime(1900, 1, 1)\n",
    "    flag_seconds = (first_flag - starting_date).total_seconds()\n",
    "    flag_seconds = flag_seconds//60 * 60\n",
    "    yellow_flag_second_times.append(flag_seconds)\n",
    "yellow_flag_second_times\n",
    "end_second_times = []\n",
    "for e in end_times:\n",
    "    first_end = datetime.strptime(e, '%Y-%m-%d %H:%M:%S.%f')\n",
    "    starting_date = datetime(1900, 1, 1)\n",
    "    end_seconds = (first_end - starting_date).total_seconds()\n",
    "    end_seconds = end_seconds//60 * 60\n",
    "    end_second_times.append(end_seconds)\n",
    "yellow_flag_second_times"
   ]
  },
  {
   "cell_type": "code",
   "execution_count": 13,
   "metadata": {},
   "outputs": [],
   "source": [
    "with open('../../data/2017/17_start_end.csv', 'w') as f:\n",
    "    f.write('Start,End\\n')\n",
    "    for s, e in zip(yellow_flag_second_times,end_second_times):\n",
    "        f.write(\"%s,%s\\n\"%(s, e))"
   ]
  },
  {
   "cell_type": "code",
   "execution_count": 5,
   "metadata": {},
   "outputs": [],
   "source": [
    "with open('../../data/2017/17_num_drivers.json') as json_file:\n",
    "    d = json.load(json_file)\n",
    "    \n",
    "times = list(d.keys())\n",
    "times = [int(t) for t in times]\n",
    "MAXTIME = max(times)"
   ]
  },
  {
   "cell_type": "code",
   "execution_count": 6,
   "metadata": {},
   "outputs": [],
   "source": [
    "is_yellow = {}\n",
    "for t in range(20, MAXTIME+1, 20):\n",
    "    if t in yellow_flag_second_times or (t+20) in yellow_flag_second_times or (t+40) in yellow_flag_second_times or (t+60) in yellow_flag_second_times:\n",
    "        is_yellow[t] = 1\n",
    "    else:\n",
    "        is_yellow[t] = 0"
   ]
  },
  {
   "cell_type": "code",
   "execution_count": 7,
   "metadata": {},
   "outputs": [],
   "source": [
    "with open('../../data/2017/17_yellow_labels.csv', 'w') as f:\n",
    "    f.write('Time,Yellow\\n')\n",
    "    for key in is_yellow.keys():\n",
    "        f.write(\"%s,%s\\n\"%(key, is_yellow[key]))"
   ]
  }
 ],
 "metadata": {
  "kernelspec": {
   "display_name": "Python 3",
   "language": "python",
   "name": "python3"
  },
  "language_info": {
   "codemirror_mode": {
    "name": "ipython",
    "version": 3
   },
   "file_extension": ".py",
   "mimetype": "text/x-python",
   "name": "python",
   "nbconvert_exporter": "python",
   "pygments_lexer": "ipython3",
   "version": "3.7.6"
  }
 },
 "nbformat": 4,
 "nbformat_minor": 4
}
